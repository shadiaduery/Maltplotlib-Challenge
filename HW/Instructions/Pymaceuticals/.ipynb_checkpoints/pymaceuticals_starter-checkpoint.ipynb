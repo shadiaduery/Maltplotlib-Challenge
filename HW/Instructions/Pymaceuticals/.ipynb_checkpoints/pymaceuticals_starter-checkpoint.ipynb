{
 "cells": [
  {
   "cell_type": "markdown",
   "metadata": {},
   "source": [
    "## Observations and Insights "
   ]
  },
  {
   "cell_type": "markdown",
   "metadata": {},
   "source": []
  },
  {
   "cell_type": "code",
   "execution_count": 130,
   "metadata": {},
   "outputs": [
    {
     "data": {
      "text/html": [
       "<div>\n",
       "<style scoped>\n",
       "    .dataframe tbody tr th:only-of-type {\n",
       "        vertical-align: middle;\n",
       "    }\n",
       "\n",
       "    .dataframe tbody tr th {\n",
       "        vertical-align: top;\n",
       "    }\n",
       "\n",
       "    .dataframe thead th {\n",
       "        text-align: right;\n",
       "    }\n",
       "</style>\n",
       "<table border=\"1\" class=\"dataframe\">\n",
       "  <thead>\n",
       "    <tr style=\"text-align: right;\">\n",
       "      <th></th>\n",
       "      <th>Mouse ID</th>\n",
       "      <th>Drug Regimen</th>\n",
       "      <th>Sex</th>\n",
       "      <th>Age_months</th>\n",
       "      <th>Weight (g)</th>\n",
       "      <th>Timepoint</th>\n",
       "      <th>Tumor Volume (mm3)</th>\n",
       "      <th>Metastatic Sites</th>\n",
       "    </tr>\n",
       "  </thead>\n",
       "  <tbody>\n",
       "    <tr>\n",
       "      <th>0</th>\n",
       "      <td>k403</td>\n",
       "      <td>Ramicane</td>\n",
       "      <td>Male</td>\n",
       "      <td>21</td>\n",
       "      <td>16</td>\n",
       "      <td>0</td>\n",
       "      <td>45.000000</td>\n",
       "      <td>0</td>\n",
       "    </tr>\n",
       "    <tr>\n",
       "      <th>1</th>\n",
       "      <td>k403</td>\n",
       "      <td>Ramicane</td>\n",
       "      <td>Male</td>\n",
       "      <td>21</td>\n",
       "      <td>16</td>\n",
       "      <td>5</td>\n",
       "      <td>38.825898</td>\n",
       "      <td>0</td>\n",
       "    </tr>\n",
       "    <tr>\n",
       "      <th>2</th>\n",
       "      <td>k403</td>\n",
       "      <td>Ramicane</td>\n",
       "      <td>Male</td>\n",
       "      <td>21</td>\n",
       "      <td>16</td>\n",
       "      <td>10</td>\n",
       "      <td>35.014271</td>\n",
       "      <td>1</td>\n",
       "    </tr>\n",
       "    <tr>\n",
       "      <th>3</th>\n",
       "      <td>k403</td>\n",
       "      <td>Ramicane</td>\n",
       "      <td>Male</td>\n",
       "      <td>21</td>\n",
       "      <td>16</td>\n",
       "      <td>15</td>\n",
       "      <td>34.223992</td>\n",
       "      <td>1</td>\n",
       "    </tr>\n",
       "    <tr>\n",
       "      <th>4</th>\n",
       "      <td>k403</td>\n",
       "      <td>Ramicane</td>\n",
       "      <td>Male</td>\n",
       "      <td>21</td>\n",
       "      <td>16</td>\n",
       "      <td>20</td>\n",
       "      <td>32.997729</td>\n",
       "      <td>1</td>\n",
       "    </tr>\n",
       "  </tbody>\n",
       "</table>\n",
       "</div>"
      ],
      "text/plain": [
       "  Mouse ID Drug Regimen   Sex  Age_months  Weight (g)  Timepoint  \\\n",
       "0     k403     Ramicane  Male          21          16          0   \n",
       "1     k403     Ramicane  Male          21          16          5   \n",
       "2     k403     Ramicane  Male          21          16         10   \n",
       "3     k403     Ramicane  Male          21          16         15   \n",
       "4     k403     Ramicane  Male          21          16         20   \n",
       "\n",
       "   Tumor Volume (mm3)  Metastatic Sites  \n",
       "0           45.000000                 0  \n",
       "1           38.825898                 0  \n",
       "2           35.014271                 1  \n",
       "3           34.223992                 1  \n",
       "4           32.997729                 1  "
      ]
     },
     "execution_count": 130,
     "metadata": {},
     "output_type": "execute_result"
    }
   ],
   "source": [
    "# Observations:\n",
    "\n",
    "# 1 The experiment was composed of 249 mice, 10 Drug Regimens, almost all Regimens had 25 mice assign\n",
    "# mice sex were closely diveded 50/50 male/female\n",
    "# 2 Each Drug Regimen was tested over 10 Timepoints (range 0-45), each mouse in the experiment\n",
    "# had a cancerous tumor at its largest volume at the beginning of the trial.\n",
    "# 3 After conducting the trial, each Drug Regimen was tested for outlier points, and none had them\n",
    "# 4 Sampling the mouse assigned to the Capomulin Drug Regimen, we tested the strength of the correlation \n",
    "# between avegage mouse weight and tumor volumen, and we found a strong correlation 0.84\n",
    "# 5 sampling one mouse treated under the Capomulin Regimen it was observed that there was a reduction of\n",
    "# the tumor volume over time, the tumor volume was reduced in almost half by timepoint 45.\n",
    "\n",
    "\n",
    "\n",
    "# Dependencies and Setup\n",
    "import pandas as pd\n",
    "import random\n",
    "import matplotlib.pyplot as plt\n",
    "import numpy as np\n",
    "from scipy.stats import sem\n",
    "from scipy.stats import linregress\n",
    "import scipy.stats as st\n",
    "\n",
    "# Study data files\n",
    "mouse_metadata_path = \"data/Mouse_metadata.csv\"\n",
    "study_results_path = \"data/Study_results.csv\"\n",
    "\n",
    "# Read the mouse data and the study results\n",
    "mouse_metadata = pd.read_csv(mouse_metadata_path)\n",
    "study_results = pd.read_csv(study_results_path)\n",
    "\n",
    "# Combine the data into a single dataset.  \n",
    "study_data_complete = pd.merge(mouse_metadata, study_results, how=\"left\", on=[\"Mouse ID\", \"Mouse ID\"])\n",
    "study_data_complete.head()\n",
    "# Display the data table for preview\n"
   ]
  },
  {
   "cell_type": "code",
   "execution_count": 131,
   "metadata": {},
   "outputs": [],
   "source": [
    "# Check the variables of dataset: mouse_metadata\n",
    "mouse_metadata = pd.read_csv(mouse_metadata_path)\n",
    "# mouse_metadata.head()"
   ]
  },
  {
   "cell_type": "code",
   "execution_count": 132,
   "metadata": {},
   "outputs": [],
   "source": [
    "# Check the variables of dataset: study_results\n",
    "study_results = pd.read_csv(study_results_path)\n",
    "# study_results.head()"
   ]
  },
  {
   "cell_type": "code",
   "execution_count": 133,
   "metadata": {},
   "outputs": [
    {
     "data": {
      "text/plain": [
       "249"
      ]
     },
     "execution_count": 133,
     "metadata": {},
     "output_type": "execute_result"
    }
   ],
   "source": [
    "# Checking the number of mice.\n",
    "mice_num = study_data_complete[\"Mouse ID\"].value_counts().count()\n",
    "mice_num\n",
    "# 249 is the Mice sample size"
   ]
  },
  {
   "cell_type": "code",
   "execution_count": 179,
   "metadata": {},
   "outputs": [
    {
     "data": {
      "text/html": [
       "<div>\n",
       "<style scoped>\n",
       "    .dataframe tbody tr th:only-of-type {\n",
       "        vertical-align: middle;\n",
       "    }\n",
       "\n",
       "    .dataframe tbody tr th {\n",
       "        vertical-align: top;\n",
       "    }\n",
       "\n",
       "    .dataframe thead th {\n",
       "        text-align: right;\n",
       "    }\n",
       "</style>\n",
       "<table border=\"1\" class=\"dataframe\">\n",
       "  <thead>\n",
       "    <tr style=\"text-align: right;\">\n",
       "      <th></th>\n",
       "      <th>Mouse ID</th>\n",
       "      <th>Drug Regimen</th>\n",
       "      <th>Timepoint</th>\n",
       "      <th>Tumor Volume (mm3)</th>\n",
       "    </tr>\n",
       "  </thead>\n",
       "  <tbody>\n",
       "    <tr>\n",
       "      <th>0</th>\n",
       "      <td>k403</td>\n",
       "      <td>Ramicane</td>\n",
       "      <td>0</td>\n",
       "      <td>45.000000</td>\n",
       "    </tr>\n",
       "    <tr>\n",
       "      <th>1</th>\n",
       "      <td>k403</td>\n",
       "      <td>Ramicane</td>\n",
       "      <td>5</td>\n",
       "      <td>38.825898</td>\n",
       "    </tr>\n",
       "    <tr>\n",
       "      <th>2</th>\n",
       "      <td>k403</td>\n",
       "      <td>Ramicane</td>\n",
       "      <td>10</td>\n",
       "      <td>35.014271</td>\n",
       "    </tr>\n",
       "    <tr>\n",
       "      <th>3</th>\n",
       "      <td>k403</td>\n",
       "      <td>Ramicane</td>\n",
       "      <td>15</td>\n",
       "      <td>34.223992</td>\n",
       "    </tr>\n",
       "    <tr>\n",
       "      <th>4</th>\n",
       "      <td>k403</td>\n",
       "      <td>Ramicane</td>\n",
       "      <td>20</td>\n",
       "      <td>32.997729</td>\n",
       "    </tr>\n",
       "    <tr>\n",
       "      <th>5</th>\n",
       "      <td>k403</td>\n",
       "      <td>Ramicane</td>\n",
       "      <td>25</td>\n",
       "      <td>33.464577</td>\n",
       "    </tr>\n",
       "    <tr>\n",
       "      <th>6</th>\n",
       "      <td>k403</td>\n",
       "      <td>Ramicane</td>\n",
       "      <td>30</td>\n",
       "      <td>31.099498</td>\n",
       "    </tr>\n",
       "    <tr>\n",
       "      <th>7</th>\n",
       "      <td>k403</td>\n",
       "      <td>Ramicane</td>\n",
       "      <td>35</td>\n",
       "      <td>26.546993</td>\n",
       "    </tr>\n",
       "    <tr>\n",
       "      <th>8</th>\n",
       "      <td>k403</td>\n",
       "      <td>Ramicane</td>\n",
       "      <td>40</td>\n",
       "      <td>24.365505</td>\n",
       "    </tr>\n",
       "    <tr>\n",
       "      <th>9</th>\n",
       "      <td>k403</td>\n",
       "      <td>Ramicane</td>\n",
       "      <td>45</td>\n",
       "      <td>22.050126</td>\n",
       "    </tr>\n",
       "    <tr>\n",
       "      <th>10</th>\n",
       "      <td>s185</td>\n",
       "      <td>Capomulin</td>\n",
       "      <td>0</td>\n",
       "      <td>45.000000</td>\n",
       "    </tr>\n",
       "    <tr>\n",
       "      <th>11</th>\n",
       "      <td>s185</td>\n",
       "      <td>Capomulin</td>\n",
       "      <td>5</td>\n",
       "      <td>43.878496</td>\n",
       "    </tr>\n",
       "  </tbody>\n",
       "</table>\n",
       "</div>"
      ],
      "text/plain": [
       "   Mouse ID Drug Regimen  Timepoint  Tumor Volume (mm3)\n",
       "0      k403     Ramicane          0           45.000000\n",
       "1      k403     Ramicane          5           38.825898\n",
       "2      k403     Ramicane         10           35.014271\n",
       "3      k403     Ramicane         15           34.223992\n",
       "4      k403     Ramicane         20           32.997729\n",
       "5      k403     Ramicane         25           33.464577\n",
       "6      k403     Ramicane         30           31.099498\n",
       "7      k403     Ramicane         35           26.546993\n",
       "8      k403     Ramicane         40           24.365505\n",
       "9      k403     Ramicane         45           22.050126\n",
       "10     s185    Capomulin          0           45.000000\n",
       "11     s185    Capomulin          5           43.878496"
      ]
     },
     "execution_count": 179,
     "metadata": {},
     "output_type": "execute_result"
    }
   ],
   "source": [
    "# Getting the duplicate mice by ID number that shows up for Mouse ID and Timepoint. \n",
    "# I am choosing to add \"Tumor Volume (mm3) to dataset to prepare the data to answer a future question\"\n",
    "mice_id_time = study_data_complete[[\"Mouse ID\", \"Drug Regimen\",\"Timepoint\", \"Tumor Volume (mm3)\"]]\n",
    "mice_id_time.head(12)"
   ]
  },
  {
   "cell_type": "code",
   "execution_count": 135,
   "metadata": {
    "scrolled": true
   },
   "outputs": [
    {
     "data": {
      "text/html": [
       "<div>\n",
       "<style scoped>\n",
       "    .dataframe tbody tr th:only-of-type {\n",
       "        vertical-align: middle;\n",
       "    }\n",
       "\n",
       "    .dataframe tbody tr th {\n",
       "        vertical-align: top;\n",
       "    }\n",
       "\n",
       "    .dataframe thead th {\n",
       "        text-align: right;\n",
       "    }\n",
       "</style>\n",
       "<table border=\"1\" class=\"dataframe\">\n",
       "  <thead>\n",
       "    <tr style=\"text-align: right;\">\n",
       "      <th></th>\n",
       "      <th>Drug Regimen</th>\n",
       "      <th>Sex</th>\n",
       "      <th>Age_months</th>\n",
       "      <th>Weight (g)</th>\n",
       "      <th>Timepoint</th>\n",
       "      <th>Tumor Volume (mm3)</th>\n",
       "      <th>Metastatic Sites</th>\n",
       "    </tr>\n",
       "  </thead>\n",
       "  <tbody>\n",
       "    <tr>\n",
       "      <th>0</th>\n",
       "      <td>Ramicane</td>\n",
       "      <td>Male</td>\n",
       "      <td>21</td>\n",
       "      <td>16</td>\n",
       "      <td>0</td>\n",
       "      <td>45.000000</td>\n",
       "      <td>0</td>\n",
       "    </tr>\n",
       "    <tr>\n",
       "      <th>1</th>\n",
       "      <td>Ramicane</td>\n",
       "      <td>Male</td>\n",
       "      <td>21</td>\n",
       "      <td>16</td>\n",
       "      <td>5</td>\n",
       "      <td>38.825898</td>\n",
       "      <td>0</td>\n",
       "    </tr>\n",
       "    <tr>\n",
       "      <th>2</th>\n",
       "      <td>Ramicane</td>\n",
       "      <td>Male</td>\n",
       "      <td>21</td>\n",
       "      <td>16</td>\n",
       "      <td>10</td>\n",
       "      <td>35.014271</td>\n",
       "      <td>1</td>\n",
       "    </tr>\n",
       "    <tr>\n",
       "      <th>3</th>\n",
       "      <td>Ramicane</td>\n",
       "      <td>Male</td>\n",
       "      <td>21</td>\n",
       "      <td>16</td>\n",
       "      <td>15</td>\n",
       "      <td>34.223992</td>\n",
       "      <td>1</td>\n",
       "    </tr>\n",
       "    <tr>\n",
       "      <th>4</th>\n",
       "      <td>Ramicane</td>\n",
       "      <td>Male</td>\n",
       "      <td>21</td>\n",
       "      <td>16</td>\n",
       "      <td>20</td>\n",
       "      <td>32.997729</td>\n",
       "      <td>1</td>\n",
       "    </tr>\n",
       "    <tr>\n",
       "      <th>...</th>\n",
       "      <td>...</td>\n",
       "      <td>...</td>\n",
       "      <td>...</td>\n",
       "      <td>...</td>\n",
       "      <td>...</td>\n",
       "      <td>...</td>\n",
       "      <td>...</td>\n",
       "    </tr>\n",
       "    <tr>\n",
       "      <th>1883</th>\n",
       "      <td>Naftisol</td>\n",
       "      <td>Male</td>\n",
       "      <td>9</td>\n",
       "      <td>30</td>\n",
       "      <td>0</td>\n",
       "      <td>45.000000</td>\n",
       "      <td>0</td>\n",
       "    </tr>\n",
       "    <tr>\n",
       "      <th>1884</th>\n",
       "      <td>Naftisol</td>\n",
       "      <td>Male</td>\n",
       "      <td>9</td>\n",
       "      <td>30</td>\n",
       "      <td>5</td>\n",
       "      <td>49.332999</td>\n",
       "      <td>0</td>\n",
       "    </tr>\n",
       "    <tr>\n",
       "      <th>1885</th>\n",
       "      <td>Naftisol</td>\n",
       "      <td>Male</td>\n",
       "      <td>9</td>\n",
       "      <td>30</td>\n",
       "      <td>10</td>\n",
       "      <td>52.656081</td>\n",
       "      <td>1</td>\n",
       "    </tr>\n",
       "    <tr>\n",
       "      <th>1886</th>\n",
       "      <td>Naftisol</td>\n",
       "      <td>Male</td>\n",
       "      <td>9</td>\n",
       "      <td>30</td>\n",
       "      <td>15</td>\n",
       "      <td>54.713005</td>\n",
       "      <td>2</td>\n",
       "    </tr>\n",
       "    <tr>\n",
       "      <th>1887</th>\n",
       "      <td>Naftisol</td>\n",
       "      <td>Male</td>\n",
       "      <td>9</td>\n",
       "      <td>30</td>\n",
       "      <td>20</td>\n",
       "      <td>57.898778</td>\n",
       "      <td>2</td>\n",
       "    </tr>\n",
       "  </tbody>\n",
       "</table>\n",
       "<p>1108 rows × 7 columns</p>\n",
       "</div>"
      ],
      "text/plain": [
       "     Drug Regimen   Sex  Age_months  Weight (g)  Timepoint  \\\n",
       "0        Ramicane  Male          21          16          0   \n",
       "1        Ramicane  Male          21          16          5   \n",
       "2        Ramicane  Male          21          16         10   \n",
       "3        Ramicane  Male          21          16         15   \n",
       "4        Ramicane  Male          21          16         20   \n",
       "...           ...   ...         ...         ...        ...   \n",
       "1883     Naftisol  Male           9          30          0   \n",
       "1884     Naftisol  Male           9          30          5   \n",
       "1885     Naftisol  Male           9          30         10   \n",
       "1886     Naftisol  Male           9          30         15   \n",
       "1887     Naftisol  Male           9          30         20   \n",
       "\n",
       "      Tumor Volume (mm3)  Metastatic Sites  \n",
       "0              45.000000                 0  \n",
       "1              38.825898                 0  \n",
       "2              35.014271                 1  \n",
       "3              34.223992                 1  \n",
       "4              32.997729                 1  \n",
       "...                  ...               ...  \n",
       "1883           45.000000                 0  \n",
       "1884           49.332999                 0  \n",
       "1885           52.656081                 1  \n",
       "1886           54.713005                 2  \n",
       "1887           57.898778                 2  \n",
       "\n",
       "[1108 rows x 7 columns]"
      ]
     },
     "execution_count": 135,
     "metadata": {},
     "output_type": "execute_result"
    }
   ],
   "source": [
    "# Optional: Get all the data for the duplicate mouse ID. \n",
    "dup_mice_id = study_data_complete.groupby(\"Mouse ID\")\n",
    "dup_mice_id_data = dup_mice_id[[\"Drug Regimen\", \"Sex\", \"Age_months\", \"Weight (g)\",\"Timepoint\", \"Tumor Volume (mm3)\",\"Metastatic Sites\"]]\n",
    "dup_mice_id_data.head()\n",
    "# dup_mice_id_data.describe()"
   ]
  },
  {
   "cell_type": "code",
   "execution_count": 136,
   "metadata": {},
   "outputs": [
    {
     "data": {
      "text/html": [
       "<div>\n",
       "<style scoped>\n",
       "    .dataframe tbody tr th:only-of-type {\n",
       "        vertical-align: middle;\n",
       "    }\n",
       "\n",
       "    .dataframe tbody tr th {\n",
       "        vertical-align: top;\n",
       "    }\n",
       "\n",
       "    .dataframe thead th {\n",
       "        text-align: right;\n",
       "    }\n",
       "</style>\n",
       "<table border=\"1\" class=\"dataframe\">\n",
       "  <thead>\n",
       "    <tr style=\"text-align: right;\">\n",
       "      <th></th>\n",
       "      <th>Mouse ID</th>\n",
       "      <th>Drug Regimen</th>\n",
       "      <th>Sex</th>\n",
       "      <th>Age_months</th>\n",
       "      <th>Weight (g)</th>\n",
       "      <th>Timepoint</th>\n",
       "      <th>Tumor Volume (mm3)</th>\n",
       "      <th>Metastatic Sites</th>\n",
       "    </tr>\n",
       "  </thead>\n",
       "  <tbody>\n",
       "    <tr>\n",
       "      <th>0</th>\n",
       "      <td>k403</td>\n",
       "      <td>Ramicane</td>\n",
       "      <td>Male</td>\n",
       "      <td>21</td>\n",
       "      <td>16</td>\n",
       "      <td>0</td>\n",
       "      <td>45.0</td>\n",
       "      <td>0</td>\n",
       "    </tr>\n",
       "    <tr>\n",
       "      <th>10</th>\n",
       "      <td>s185</td>\n",
       "      <td>Capomulin</td>\n",
       "      <td>Female</td>\n",
       "      <td>3</td>\n",
       "      <td>17</td>\n",
       "      <td>0</td>\n",
       "      <td>45.0</td>\n",
       "      <td>0</td>\n",
       "    </tr>\n",
       "    <tr>\n",
       "      <th>20</th>\n",
       "      <td>x401</td>\n",
       "      <td>Capomulin</td>\n",
       "      <td>Female</td>\n",
       "      <td>16</td>\n",
       "      <td>15</td>\n",
       "      <td>0</td>\n",
       "      <td>45.0</td>\n",
       "      <td>0</td>\n",
       "    </tr>\n",
       "    <tr>\n",
       "      <th>30</th>\n",
       "      <td>m601</td>\n",
       "      <td>Capomulin</td>\n",
       "      <td>Male</td>\n",
       "      <td>22</td>\n",
       "      <td>17</td>\n",
       "      <td>0</td>\n",
       "      <td>45.0</td>\n",
       "      <td>0</td>\n",
       "    </tr>\n",
       "    <tr>\n",
       "      <th>40</th>\n",
       "      <td>g791</td>\n",
       "      <td>Ramicane</td>\n",
       "      <td>Male</td>\n",
       "      <td>11</td>\n",
       "      <td>16</td>\n",
       "      <td>0</td>\n",
       "      <td>45.0</td>\n",
       "      <td>0</td>\n",
       "    </tr>\n",
       "  </tbody>\n",
       "</table>\n",
       "</div>"
      ],
      "text/plain": [
       "   Mouse ID Drug Regimen     Sex  Age_months  Weight (g)  Timepoint  \\\n",
       "0      k403     Ramicane    Male          21          16          0   \n",
       "10     s185    Capomulin  Female           3          17          0   \n",
       "20     x401    Capomulin  Female          16          15          0   \n",
       "30     m601    Capomulin    Male          22          17          0   \n",
       "40     g791     Ramicane    Male          11          16          0   \n",
       "\n",
       "    Tumor Volume (mm3)  Metastatic Sites  \n",
       "0                 45.0                 0  \n",
       "10                45.0                 0  \n",
       "20                45.0                 0  \n",
       "30                45.0                 0  \n",
       "40                45.0                 0  "
      ]
     },
     "execution_count": 136,
     "metadata": {},
     "output_type": "execute_result"
    }
   ],
   "source": [
    "# Create a clean DataFrame by dropping the duplicate mouse by its ID.\n",
    "clean_study_complete_data = study_data_complete.drop_duplicates(\"Mouse ID\")\n",
    "clean_study_complete_data.head()"
   ]
  },
  {
   "cell_type": "code",
   "execution_count": 137,
   "metadata": {},
   "outputs": [],
   "source": [
    "# Checking the number of mice in the clean DataFrame. Already calculated as 249 \n",
    "num_mice1= clean_study_complete_data[\"Mouse ID\"].value_counts().sum()\n",
    "# num_mice1\n",
    "\n",
    "mice_per_regime = clean_study_complete_data[[\"Drug Regimen\",\"Mouse ID\"]]\n",
    "# mice_per_regime.describe()\n",
    "\n",
    "sex_data = clean_study_complete_data[[\"Sex\",\"Mouse ID\"]]\n",
    "# sex_data.describe()\n",
    "\n"
   ]
  },
  {
   "cell_type": "code",
   "execution_count": 138,
   "metadata": {},
   "outputs": [
    {
     "data": {
      "text/plain": [
       "array(['Ramicane', 'Capomulin', 'Infubinol', 'Placebo', 'Ceftamin',\n",
       "       'Stelasyn', 'Zoniferol', 'Ketapril', 'Propriva', 'Naftisol'],\n",
       "      dtype=object)"
      ]
     },
     "execution_count": 138,
     "metadata": {},
     "output_type": "execute_result"
    }
   ],
   "source": [
    "# Setting a list of \"Drug Regimens\" to use in future question to answer\n",
    "drug_regimen = clean_study_complete_data[\"Drug Regimen\"].unique()\n",
    "drug_regimen"
   ]
  },
  {
   "cell_type": "markdown",
   "metadata": {},
   "source": [
    "## Summary Statistics"
   ]
  },
  {
   "cell_type": "code",
   "execution_count": 139,
   "metadata": {},
   "outputs": [
    {
     "data": {
      "text/html": [
       "<div>\n",
       "<style scoped>\n",
       "    .dataframe tbody tr th:only-of-type {\n",
       "        vertical-align: middle;\n",
       "    }\n",
       "\n",
       "    .dataframe tbody tr th {\n",
       "        vertical-align: top;\n",
       "    }\n",
       "\n",
       "    .dataframe thead th {\n",
       "        text-align: right;\n",
       "    }\n",
       "</style>\n",
       "<table border=\"1\" class=\"dataframe\">\n",
       "  <thead>\n",
       "    <tr style=\"text-align: right;\">\n",
       "      <th></th>\n",
       "      <th>Tumor Volume (mm3)</th>\n",
       "      <th>Median</th>\n",
       "      <th>Variance</th>\n",
       "      <th>Standard Deviation</th>\n",
       "      <th>SEM</th>\n",
       "    </tr>\n",
       "    <tr>\n",
       "      <th>Drug Regimen</th>\n",
       "      <th></th>\n",
       "      <th></th>\n",
       "      <th></th>\n",
       "      <th></th>\n",
       "      <th></th>\n",
       "    </tr>\n",
       "  </thead>\n",
       "  <tbody>\n",
       "    <tr>\n",
       "      <th>Capomulin</th>\n",
       "      <td>40.675741</td>\n",
       "      <td>41.557809</td>\n",
       "      <td>24.947764</td>\n",
       "      <td>4.994774</td>\n",
       "      <td>0.329346</td>\n",
       "    </tr>\n",
       "    <tr>\n",
       "      <th>Ceftamin</th>\n",
       "      <td>52.591172</td>\n",
       "      <td>51.776157</td>\n",
       "      <td>39.290177</td>\n",
       "      <td>6.268188</td>\n",
       "      <td>0.469821</td>\n",
       "    </tr>\n",
       "    <tr>\n",
       "      <th>Infubinol</th>\n",
       "      <td>52.884795</td>\n",
       "      <td>51.820584</td>\n",
       "      <td>43.128684</td>\n",
       "      <td>6.567243</td>\n",
       "      <td>0.492236</td>\n",
       "    </tr>\n",
       "    <tr>\n",
       "      <th>Ketapril</th>\n",
       "      <td>55.235638</td>\n",
       "      <td>53.698743</td>\n",
       "      <td>68.553577</td>\n",
       "      <td>8.279709</td>\n",
       "      <td>0.603860</td>\n",
       "    </tr>\n",
       "    <tr>\n",
       "      <th>Naftisol</th>\n",
       "      <td>54.331565</td>\n",
       "      <td>52.509285</td>\n",
       "      <td>66.173479</td>\n",
       "      <td>8.134708</td>\n",
       "      <td>0.596466</td>\n",
       "    </tr>\n",
       "    <tr>\n",
       "      <th>Placebo</th>\n",
       "      <td>54.033581</td>\n",
       "      <td>52.288934</td>\n",
       "      <td>61.168083</td>\n",
       "      <td>7.821003</td>\n",
       "      <td>0.581331</td>\n",
       "    </tr>\n",
       "    <tr>\n",
       "      <th>Propriva</th>\n",
       "      <td>52.322552</td>\n",
       "      <td>50.854632</td>\n",
       "      <td>42.351070</td>\n",
       "      <td>6.507770</td>\n",
       "      <td>0.512884</td>\n",
       "    </tr>\n",
       "    <tr>\n",
       "      <th>Ramicane</th>\n",
       "      <td>40.216745</td>\n",
       "      <td>40.673236</td>\n",
       "      <td>23.486704</td>\n",
       "      <td>4.846308</td>\n",
       "      <td>0.320955</td>\n",
       "    </tr>\n",
       "    <tr>\n",
       "      <th>Stelasyn</th>\n",
       "      <td>54.233149</td>\n",
       "      <td>52.431737</td>\n",
       "      <td>59.450562</td>\n",
       "      <td>7.710419</td>\n",
       "      <td>0.573111</td>\n",
       "    </tr>\n",
       "    <tr>\n",
       "      <th>Zoniferol</th>\n",
       "      <td>53.236507</td>\n",
       "      <td>51.818479</td>\n",
       "      <td>48.533355</td>\n",
       "      <td>6.966589</td>\n",
       "      <td>0.516398</td>\n",
       "    </tr>\n",
       "  </tbody>\n",
       "</table>\n",
       "</div>"
      ],
      "text/plain": [
       "              Tumor Volume (mm3)     Median   Variance  Standard Deviation  \\\n",
       "Drug Regimen                                                                 \n",
       "Capomulin              40.675741  41.557809  24.947764            4.994774   \n",
       "Ceftamin               52.591172  51.776157  39.290177            6.268188   \n",
       "Infubinol              52.884795  51.820584  43.128684            6.567243   \n",
       "Ketapril               55.235638  53.698743  68.553577            8.279709   \n",
       "Naftisol               54.331565  52.509285  66.173479            8.134708   \n",
       "Placebo                54.033581  52.288934  61.168083            7.821003   \n",
       "Propriva               52.322552  50.854632  42.351070            6.507770   \n",
       "Ramicane               40.216745  40.673236  23.486704            4.846308   \n",
       "Stelasyn               54.233149  52.431737  59.450562            7.710419   \n",
       "Zoniferol              53.236507  51.818479  48.533355            6.966589   \n",
       "\n",
       "                   SEM  \n",
       "Drug Regimen            \n",
       "Capomulin     0.329346  \n",
       "Ceftamin      0.469821  \n",
       "Infubinol     0.492236  \n",
       "Ketapril      0.603860  \n",
       "Naftisol      0.596466  \n",
       "Placebo       0.581331  \n",
       "Propriva      0.512884  \n",
       "Ramicane      0.320955  \n",
       "Stelasyn      0.573111  \n",
       "Zoniferol     0.516398  "
      ]
     },
     "execution_count": 139,
     "metadata": {},
     "output_type": "execute_result"
    }
   ],
   "source": [
    "# Generate a summary statistics table of mean, median, variance, standard deviation, and SEM of the tumor volume for each regimen\n",
    "\n",
    "drug_regimens = study_data_complete.groupby(\"Drug Regimen\")\n",
    "\n",
    "# mice_regimen =\n",
    "tumor_data = drug_regimens[[\"Tumor Volume (mm3)\"]]\n",
    "mean = tumor_data.mean()\n",
    "median = tumor_data.median()\n",
    "variance = tumor_data.var()\n",
    "std = tumor_data.std()\n",
    "sem = tumor_data.sem()\n",
    "\n",
    "tumor_data_stats = mean\n",
    "tumor_data_stats[\"Median\"]=(median)\n",
    "tumor_data_stats[\"Variance\"]=(variance)\n",
    "tumor_data_stats[\"Standard Deviation\"]=(std)\n",
    "tumor_data_stats[\"SEM\"]=(sem)\n",
    "tummor_data_stats = tumor_data_stats.rename(columns={\"Tumor Volume (mm3)\":\"Mean\"})\n",
    "tumor_data_stats "
   ]
  },
  {
   "cell_type": "code",
   "execution_count": 140,
   "metadata": {},
   "outputs": [
    {
     "data": {
      "text/html": [
       "<div>\n",
       "<style scoped>\n",
       "    .dataframe tbody tr th:only-of-type {\n",
       "        vertical-align: middle;\n",
       "    }\n",
       "\n",
       "    .dataframe tbody tr th {\n",
       "        vertical-align: top;\n",
       "    }\n",
       "\n",
       "    .dataframe thead th {\n",
       "        text-align: right;\n",
       "    }\n",
       "</style>\n",
       "<table border=\"1\" class=\"dataframe\">\n",
       "  <thead>\n",
       "    <tr style=\"text-align: right;\">\n",
       "      <th></th>\n",
       "      <th>0</th>\n",
       "    </tr>\n",
       "  </thead>\n",
       "  <tbody>\n",
       "    <tr>\n",
       "      <th>Tumor Volume (mm3)</th>\n",
       "      <td>50.976144</td>\n",
       "    </tr>\n",
       "    <tr>\n",
       "      <th>Median</th>\n",
       "      <td>49.942960</td>\n",
       "    </tr>\n",
       "    <tr>\n",
       "      <th>Variance</th>\n",
       "      <td>47.708346</td>\n",
       "    </tr>\n",
       "    <tr>\n",
       "      <th>Standard Deviation</th>\n",
       "      <td>6.809671</td>\n",
       "    </tr>\n",
       "    <tr>\n",
       "      <th>SEM</th>\n",
       "      <td>0.499641</td>\n",
       "    </tr>\n",
       "  </tbody>\n",
       "</table>\n",
       "</div>"
      ],
      "text/plain": [
       "                            0\n",
       "Tumor Volume (mm3)  50.976144\n",
       "Median              49.942960\n",
       "Variance            47.708346\n",
       "Standard Deviation   6.809671\n",
       "SEM                  0.499641"
      ]
     },
     "execution_count": 140,
     "metadata": {},
     "output_type": "execute_result"
    }
   ],
   "source": [
    "# Using the aggregation method, produce the same summary statistics in a single line\n",
    "tumor_data_stats_sl= tumor_data_stats.reset_index()\n",
    "tumor_data_stats_sl = tumor_data_stats_sl.drop(columns=[\"Drug Regimen\"]).mean()\n",
    "tumor_data_stats_sl_df = pd.DataFrame(tumor_data_stats_sl)\n",
    "tumor_data_stats_sl_df "
   ]
  },
  {
   "cell_type": "markdown",
   "metadata": {},
   "source": [
    "## Bar and Pie Charts"
   ]
  },
  {
   "cell_type": "code",
   "execution_count": 141,
   "metadata": {
    "scrolled": true
   },
   "outputs": [
    {
     "data": {
      "text/plain": [
       "Text(0, 0.5, 'Mice per Regimen (#)')"
      ]
     },
     "execution_count": 141,
     "metadata": {},
     "output_type": "execute_result"
    },
    {
     "data": {
      "image/png": "[encoded data removed]",
      "text/plain": [
       "<Figure size 432x288 with 1 Axes>"
      ]
     },
     "metadata": {
      "needs_background": "light"
     },
     "output_type": "display_data"
    }
   ],
   "source": [
    "# Generate a bar plot showing the total number of unique mice tested on each drug regimen using pandas.\n",
    "mice_per_regime_final = mice_per_regime.pivot(columns=\"Drug Regimen\", values = \"Drug Regimen\").count()\n",
    "\n",
    "mice_per_regime_final.plot( kind = \"bar\", title= \"Total Mice by Drug Regimen\", y=\"Mice Number\")\n",
    "\n",
    "plt.xlabel(\"Regimen\")\n",
    "plt.ylabel(\"Mice per Regimen (#)\")"
   ]
  },
  {
   "cell_type": "code",
   "execution_count": 176,
   "metadata": {},
   "outputs": [
    {
     "data": {
      "text/plain": [
       "Text(0, 0.5, 'Mice per Regimen (#)')"
      ]
     },
     "execution_count": 176,
     "metadata": {},
     "output_type": "execute_result"
    },
    {
     "data": {
      "image/png": "[encoded data removed]",
      "text/plain": [
       "<Figure size 432x288 with 1 Axes>"
      ]
     },
     "metadata": {
      "needs_background": "light"
     },
     "output_type": "display_data"
    }
   ],
   "source": [
    " # Generate a bar plot showing the total number of unique mice tested on each drug regimen using pyplot.\\n\",\n",
    "\n",
    "x_axis = drug_regimen\n",
    "\n",
    "tick_locations = [value for value in x_axis]\n",
    "plt.bar(x_axis,mice_per_regime_final, color='skyblue', alpha=0.5, align='center')\n",
    "plt.xticks(tick_locations, rotation = \"vertical\")\n",
    "\n",
    "# plt.title(\"Total Mice by Drug Regimen\")\n",
    "plt.xlabel(\"Regimen\")\n",
    "plt.ylabel(\"Mice per Regimen (#)\")\n"
   ]
  },
  {
   "cell_type": "code",
   "execution_count": 143,
   "metadata": {},
   "outputs": [
    {
     "data": {
      "text/plain": [
       "<matplotlib.axes._subplots.AxesSubplot at 0x18e51bdaac8>"
      ]
     },
     "execution_count": 143,
     "metadata": {},
     "output_type": "execute_result"
    },
    {
     "data": {
      "image/png": "[encoded data removed]",
      "text/plain": [
       "<Figure size 432x288 with 1 Axes>"
      ]
     },
     "metadata": {},
     "output_type": "display_data"
    }
   ],
   "source": [
    "# Generate a pie plot showing the distribution of female versus male mice using pandas\n",
    "sex_data = clean_study_complete_data[[\"Sex\",\"Mouse ID\"]]\n",
    "sex_data_final = sex_data.pivot(columns = \"Sex\", values = \"Sex\").count()\n",
    "sex_data_final.plot (kind = \"pie\", title = \"Gender Distribution\") \n"
   ]
  },
  {
   "cell_type": "code",
   "execution_count": 173,
   "metadata": {},
   "outputs": [
    {
     "data": {
      "text/plain": [
       "([<matplotlib.patches.Wedge at 0x18e5272eb00>,\n",
       "  <matplotlib.patches.Wedge at 0x18e5273d588>],\n",
       " [Text(0.007570010156471481, -1.1999761226567098, 'Male'),\n",
       "  Text(-0.00693917597676539, 1.0999781124353174, 'Female')],\n",
       " [Text(0.004415839257941697, -0.6999860715497472, '50.2%'),\n",
       "  Text(-0.003785005078235667, 0.5999880613283548, '49.8%')])"
      ]
     },
     "execution_count": 173,
     "metadata": {},
     "output_type": "execute_result"
    },
    {
     "data": {
      "image/png": "[encoded data removed]",
      "text/plain": [
       "<Figure size 432x288 with 1 Axes>"
      ]
     },
     "metadata": {},
     "output_type": "display_data"
    }
   ],
   "source": [
    "# Generate a pie plot showing the distribution of female versus male mice using pyplot\n",
    "sex_data_final\n",
    "# I printed sex_data_final to get the labels and sizes to input into the pie graph\n",
    "\n",
    "title = [\"Gender Distribution\"]\n",
    "labels = [\"Male\", \"Female\"]\n",
    "sizes = [125, 124]\n",
    "colors = [\"orange\", \"lightblue\"]\n",
    "explode = (0.1, 0)\n",
    "\n",
    "\n",
    "plt.title = (\"Gender Distribution\")\n",
    "plt.pie(sizes, explode=explode, labels=labels, colors=colors,\n",
    "        autopct=\"%1.1f%%\", shadow=True, startangle=180)\n"
   ]
  },
  {
   "cell_type": "markdown",
   "metadata": {},
   "source": [
    "## Quartiles, Outliers and Boxplots"
   ]
  },
  {
   "cell_type": "code",
   "execution_count": 145,
   "metadata": {},
   "outputs": [],
   "source": [
    "# Calculate the final tumor volume of each mouse across four of the treatment regimens: Capomulin, Ramicane, Infubinol, and Ceftamin\n",
    "\n",
    "# Start by getting the last (greatest) timepoint for each mouse\n",
    "mice_id_time = study_data_complete[[\"Timepoint\",\"Mouse ID\", \"Drug Regimen\",\"Tumor Volume (mm3)\"]]\n",
    "mice_id_time = mice_id_time.sort_values(\"Timepoint\", ascending = False)\n",
    "mice_id_time = mice_id_time.set_index(\"Timepoint\")\n",
    "mice_id_time_45 = mice_id_time.loc[45,:]\n",
    "mice_id_time_45 = mice_id_time_45.reset_index()\n",
    "mice_id_time_45 = mice_id_time_45.drop(columns=[\"Timepoint\"])\n",
    "mice_id_time_45 = mice_id_time_45.set_index(\"Drug Regimen\")\n",
    "\n",
    "# Merge this group df with the original dataframe to get the tumor volume at the last timepoint\n",
    "\n",
    "Capomulin = mice_id_time_45.loc[[\"Capomulin\"],[\"Tumor Volume (mm3)\"]]\n",
    "Capomulin_df = pd.DataFrame(Capomulin)\n",
    "Capomulin_df = Capomulin.reset_index()\n",
    "Capomulin_Tumor_vol = Capomulin_df.drop(columns=[\"Drug Regimen\"])\n",
    "Capomulin_Tumor_vol = Capomulin_Tumor_vol[\"Tumor Volume (mm3)\"]\n",
    "# Capomulin_Tumor_vol\n",
    "\n",
    "Ramicane = mice_id_time_45.loc[[\"Ramicane\"],[\"Tumor Volume (mm3)\"]]\n",
    "Ramicane_df = pd.DataFrame(Ramicane)\n",
    "Ramicane_df = Ramicane.reset_index()\n",
    "Ramicane_Tumor_vol = Ramicane_df.drop(columns=[\"Drug Regimen\"])\n",
    "Ramicane_Tumor_vol = Ramicane_Tumor_vol[\"Tumor Volume (mm3)\"]\n",
    "# Ramicane_Tumor_vol\n",
    "\n",
    "Infubinol = mice_id_time_45.loc[[\"Infubinol\"],[\"Tumor Volume (mm3)\"]]\n",
    "Infubinol_df = pd.DataFrame(Ramicane)\n",
    "Infubinol_df = Infubinol.reset_index()\n",
    "Infubinol_Tumor_vol = Infubinol_df.drop(columns=[\"Drug Regimen\"])\n",
    "Infubinol_Tumor_vol = Infubinol_Tumor_vol[\"Tumor Volume (mm3)\"]\n",
    "# Infubinol_Tumor_vol\n",
    "\n",
    "Ceftamin = mice_id_time_45.loc[[\"Ceftamin\"],[\"Tumor Volume (mm3)\"]]\n",
    "Ceftamin_df = pd.DataFrame(Ramicane)\n",
    "Ceftamin_df = Ceftamin.reset_index()\n",
    "Ceftamin_Tumor_vol = Ceftamin_df.drop(columns=[\"Drug Regimen\"])\n",
    "Ceftamin_Tumor_vol = Ceftamin_Tumor_vol[\"Tumor Volume (mm3)\"]\n",
    "# Ceftamin_Tumor_vol\n",
    "\n",
    "# Summary_CRIC = [Capomulin_df, Ramicane_df, Infubinol_df, Ceftamin_df]\n",
    "# Summary_CRIC \n",
    "# Summary_CRIC_df = pd.DataFrame(Summary_CRIC)\n",
    "# Summary_CRIC_df\n",
    "\n"
   ]
  },
  {
   "cell_type": "code",
   "execution_count": 146,
   "metadata": {},
   "outputs": [
    {
     "name": "stdout",
     "output_type": "stream",
     "text": [
      "The lower quartile of Capomulin is: 32.37735684\n",
      "The upper quartile of Capomulin is: 40.1592203\n",
      "The interquartile range of Capomulin is: 7.781863460000004\n",
      "The the median of Capomulin is: 37.31184577 \n",
      "Values below 20.70456164999999 could be outliers.\n",
      "Values above 51.83201549 could be outliers.\n"
     ]
    }
   ],
   "source": [
    "# Put treatments into a list for for loop (and later for plot labels)\n",
    "\n",
    "# Create empty list to fill with tumor vol data (for plotting)\n",
    "\n",
    "\n",
    "# Calculate the IQR and quantitatively determine if there are any potential outliers. \n",
    "# IQR for Capomulin\n",
    "\n",
    "quartiles = Capomulin_Tumor_vol.quantile([.25,.5,.75])\n",
    "lowerq = quartiles[0.25]\n",
    "upperq = quartiles[0.75]\n",
    "iqr = upperq-lowerq\n",
    "\n",
    "print(f\"The lower quartile of Capomulin is: {lowerq}\")\n",
    "print(f\"The upper quartile of Capomulin is: {upperq}\")\n",
    "print(f\"The interquartile range of Capomulin is: {iqr}\")\n",
    "print(f\"The the median of Capomulin is: {quartiles[0.5]} \")\n",
    "\n",
    "lower_bound = lowerq - (1.5*iqr)\n",
    "upper_bound = upperq + (1.5*iqr)\n",
    "print(f\"Values below {lower_bound} could be outliers.\")\n",
    "print(f\"Values above {upper_bound} could be outliers.\")\n",
    "    \n",
    "    # Locate the rows which contain mice on each drug and get the tumor volumes\n",
    "    \n",
    "    # add subset \n",
    "    \n",
    "    # Determine outliers using upper and lower bounds\n",
    "    "
   ]
  },
  {
   "cell_type": "code",
   "execution_count": 147,
   "metadata": {},
   "outputs": [
    {
     "data": {
      "text/plain": [
       "18    23.343598\n",
       "20    28.430964\n",
       "19    28.484033\n",
       "17    31.023923\n",
       "10    31.896238\n",
       "11    32.377357\n",
       "12    33.329098\n",
       "13    34.455298\n",
       "15    36.041047\n",
       "9     37.074024\n",
       "14    37.311846\n",
       "0     38.125164\n",
       "1     38.846876\n",
       "2     38.939633\n",
       "3     38.982878\n",
       "5     40.159220\n",
       "4     40.658124\n",
       "6     40.728578\n",
       "7     41.483008\n",
       "8     41.581521\n",
       "16    47.685963\n",
       "Name: Tumor Volume (mm3), dtype: float64"
      ]
     },
     "execution_count": 147,
     "metadata": {},
     "output_type": "execute_result"
    }
   ],
   "source": [
    "Capomulin_Tumor_vol = Capomulin_Tumor_vol.sort_values()\n",
    "Capomulin_Tumor_vol\n",
    "\n",
    "# Capomulin data has no potential outliers "
   ]
  },
  {
   "cell_type": "code",
   "execution_count": 148,
   "metadata": {},
   "outputs": [
    {
     "name": "stdout",
     "output_type": "stream",
     "text": [
      "The lower quartile of Ramicane is: 30.981175224999998\n",
      "The upper quartile of Ramicane is: 38.508305307499995\n",
      "The interquartile range of Ramicane is: 7.527130082499998\n",
      "The the median of Ramicane is: 34.848627300000004 \n",
      "Values below 19.690480101250003 could be outliers.\n",
      "Values above 49.79900043124999 could be outliers.\n"
     ]
    }
   ],
   "source": [
    "# Calculate the IQR and quantitatively determine if there are any potential outliers. \n",
    "# IQR for Capomulin\n",
    "\n",
    "quartiles = Ramicane_Tumor_vol.quantile([.25,.5,.75])\n",
    "lowerq = quartiles[0.25]\n",
    "upperq = quartiles[0.75]\n",
    "iqr = upperq-lowerq\n",
    "\n",
    "print(f\"The lower quartile of Ramicane is: {lowerq}\")\n",
    "print(f\"The upper quartile of Ramicane is: {upperq}\")\n",
    "print(f\"The interquartile range of Ramicane is: {iqr}\")\n",
    "print(f\"The the median of Ramicane is: {quartiles[0.5]} \")\n",
    "\n",
    "lower_bound = lowerq - (1.5*iqr)\n",
    "upper_bound = upperq + (1.5*iqr)\n",
    "print(f\"Values below {lower_bound} could be outliers.\")\n",
    "print(f\"Values above {upper_bound} could be outliers.\")\n",
    "    \n",
    "    # Locate the rows which contain mice on each drug and get the tumor volumes\n",
    "    \n",
    "    # add subset \n",
    "    \n",
    "    # Determine outliers using upper and lower bounds"
   ]
  },
  {
   "cell_type": "code",
   "execution_count": 149,
   "metadata": {},
   "outputs": [
    {
     "data": {
      "text/plain": [
       "15    22.050126\n",
       "18    29.128472\n",
       "17    30.276232\n",
       "14    30.564625\n",
       "16    30.638696\n",
       "2     31.095335\n",
       "19    31.560470\n",
       "6     32.978522\n",
       "5     33.397653\n",
       "7     33.562402\n",
       "8     36.134852\n",
       "4     36.374510\n",
       "10    37.225650\n",
       "0     37.311236\n",
       "1     38.407618\n",
       "9     38.810366\n",
       "3     40.659006\n",
       "11    40.667713\n",
       "13    43.047543\n",
       "12    45.220869\n",
       "Name: Tumor Volume (mm3), dtype: float64"
      ]
     },
     "execution_count": 149,
     "metadata": {},
     "output_type": "execute_result"
    }
   ],
   "source": [
    "Ramicane_Tumor_vol = Ramicane_Tumor_vol.sort_values()\n",
    "Ramicane_Tumor_vol\n",
    "\n",
    "# Ramicane data has no potential outliers "
   ]
  },
  {
   "cell_type": "code",
   "execution_count": 150,
   "metadata": {},
   "outputs": [
    {
     "name": "stdout",
     "output_type": "stream",
     "text": [
      "The lower quartile of Infubinol is: 62.75445141\n",
      "The upper quartile of Infubinol is: 67.68556862\n",
      "The interquartile range of Infubinol is: 4.9311172099999965\n",
      "The the median of Infubinol is: 66.08306589 \n",
      "Values below 55.35777559500001 could be outliers.\n",
      "Values above 75.08224443499999 could be outliers.\n"
     ]
    }
   ],
   "source": [
    "# Calculate the IQR and quantitatively determine if there are any potential outliers. \n",
    "# IQR for Capomulin\n",
    "\n",
    "quartiles = Infubinol_Tumor_vol.quantile([.25,.5,.75])\n",
    "lowerq = quartiles[0.25]\n",
    "upperq = quartiles[0.75]\n",
    "iqr = upperq-lowerq\n",
    "\n",
    "print(f\"The lower quartile of Infubinol is: {lowerq}\")\n",
    "print(f\"The upper quartile of Infubinol is: {upperq}\")\n",
    "print(f\"The interquartile range of Infubinol is: {iqr}\")\n",
    "print(f\"The the median of Infubinol is: {quartiles[0.5]} \")\n",
    "\n",
    "lower_bound = lowerq - (1.5*iqr)\n",
    "upper_bound = upperq + (1.5*iqr)\n",
    "print(f\"Values below {lower_bound} could be outliers.\")\n",
    "print(f\"Values above {upper_bound} could be outliers.\")\n",
    "    \n",
    "    # Locate the rows which contain mice on each drug and get the tumor volumes\n",
    "    \n",
    "    # add subset \n",
    "    \n",
    "    # Determine outliers using upper and lower bounds"
   ]
  },
  {
   "cell_type": "code",
   "execution_count": 151,
   "metadata": {},
   "outputs": [
    {
     "data": {
      "text/plain": [
       "0    60.918767\n",
       "2    62.435404\n",
       "7    62.754451\n",
       "4    65.525743\n",
       "6    66.083066\n",
       "5    66.196912\n",
       "8    67.685569\n",
       "3    67.973419\n",
       "1    72.226731\n",
       "Name: Tumor Volume (mm3), dtype: float64"
      ]
     },
     "execution_count": 151,
     "metadata": {},
     "output_type": "execute_result"
    }
   ],
   "source": [
    "Infubinol_Tumor_vol = Infubinol_Tumor_vol.sort_values()\n",
    "Infubinol_Tumor_vol\n",
    "\n",
    "# Infubinol data has no potential outliers "
   ]
  },
  {
   "cell_type": "code",
   "execution_count": 152,
   "metadata": {},
   "outputs": [
    {
     "name": "stdout",
     "output_type": "stream",
     "text": [
      "The lower quartile of Ceftamin is: 61.43389223\n",
      "The upper quartile of Ceftamin is: 67.52748237\n",
      "The interquartile range of Ceftamin is: 6.093590140000003\n",
      "The the median of Ceftamin is: 64.29983003 \n",
      "Values below 52.29350701999999 could be outliers.\n",
      "Values above 76.66786758 could be outliers.\n"
     ]
    }
   ],
   "source": [
    "# Calculate the IQR and quantitatively determine if there are any potential outliers. \n",
    "# IQR for Capomulin\n",
    "\n",
    "quartiles = Ceftamin_Tumor_vol.quantile([.25,.5,.75])\n",
    "lowerq = quartiles[0.25]\n",
    "upperq = quartiles[0.75]\n",
    "iqr = upperq-lowerq\n",
    "\n",
    "print(f\"The lower quartile of Ceftamin is: {lowerq}\")\n",
    "print(f\"The upper quartile of Ceftamin is: {upperq}\")\n",
    "print(f\"The interquartile range of Ceftamin is: {iqr}\")\n",
    "print(f\"The the median of Ceftamin is: {quartiles[0.5]} \")\n",
    "\n",
    "lower_bound = lowerq - (1.5*iqr)\n",
    "upper_bound = upperq + (1.5*iqr)\n",
    "print(f\"Values below {lower_bound} could be outliers.\")\n",
    "print(f\"Values above {upper_bound} could be outliers.\")\n",
    "    \n",
    "    # Locate the rows which contain mice on each drug and get the tumor volumes\n",
    "    \n",
    "    # add subset \n",
    "    \n",
    "    # Determine outliers using upper and lower bounds"
   ]
  },
  {
   "cell_type": "code",
   "execution_count": 153,
   "metadata": {},
   "outputs": [
    {
     "data": {
      "text/plain": [
       "1     59.741901\n",
       "5     59.851956\n",
       "10    61.386660\n",
       "0     61.433892\n",
       "3     61.849023\n",
       "7     62.999356\n",
       "4     64.299830\n",
       "9     64.634949\n",
       "11    64.729837\n",
       "2     67.527482\n",
       "6     67.748662\n",
       "12    68.594745\n",
       "8     68.923185\n",
       "Name: Tumor Volume (mm3), dtype: float64"
      ]
     },
     "execution_count": 153,
     "metadata": {},
     "output_type": "execute_result"
    }
   ],
   "source": [
    "Ceftamin_Tumor_vol = Ceftamin_Tumor_vol.sort_values()\n",
    "Ceftamin_Tumor_vol\n",
    "\n",
    "# Ceftamin has no potential outliers"
   ]
  },
  {
   "cell_type": "code",
   "execution_count": 154,
   "metadata": {},
   "outputs": [
    {
     "data": {
      "text/plain": [
       "<matplotlib.axes._subplots.AxesSubplot at 0x18e51c12d30>"
      ]
     },
     "execution_count": 154,
     "metadata": {},
     "output_type": "execute_result"
    },
    {
     "data": {
      "image/png": "[encoded data removed]",
      "text/plain": [
       "<Figure size 432x288 with 1 Axes>"
      ]
     },
     "metadata": {
      "needs_background": "light"
     },
     "output_type": "display_data"
    },
    {
     "data": {
      "image/png": "[encoded data removed]",
      "text/plain": [
       "<Figure size 432x288 with 1 Axes>"
      ]
     },
     "metadata": {
      "needs_background": "light"
     },
     "output_type": "display_data"
    },
    {
     "data": {
      "image/png": "[encoded data removed]",
      "text/plain": [
       "<Figure size 432x288 with 1 Axes>"
      ]
     },
     "metadata": {
      "needs_background": "light"
     },
     "output_type": "display_data"
    },
    {
     "data": {
      "image/png": "[encoded data removed]",
      "text/plain": [
       "<Figure size 432x288 with 1 Axes>"
      ]
     },
     "metadata": {
      "needs_background": "light"
     },
     "output_type": "display_data"
    }
   ],
   "source": [
    "# Generate a box plot of the final tumor volume of each mouse across four regimens of interest\n",
    "\n",
    "Capomulin.plot (kind = \"box\", title=\"Capomulin\")\n",
    "Ramicane.plot (kind = \"box\",title=\"Ramicane\")\n",
    "Infubinol.plot (kind = \"box\",title=\"Infubinol\")\n",
    "Ceftamin.plot (kind=\"box\",title=\"Ceftamin\")\n"
   ]
  },
  {
   "cell_type": "code",
   "execution_count": 155,
   "metadata": {},
   "outputs": [
    {
     "data": {
      "image/png": "[encoded data removed]",
      "text/plain": [
       "<Figure size 432x288 with 4 Axes>"
      ]
     },
     "metadata": {
      "needs_background": "light"
     },
     "output_type": "display_data"
    }
   ],
   "source": [
    "# Generate a box plot of the final tumor volume of each mouse across four regimens of interest\n",
    "# Still have to figure out how to add Y axis label for the whole figure\n",
    "\n",
    "\n",
    "fig, ax = plt.subplots(2,2)\n",
    "fig.suptitle(\"Drug Regimen\")\n",
    "# fig.ylabel('Tumor Volume (mm3)')\n",
    "\n",
    "ax[0,0].set_title('Capomulin')\n",
    "ax[0,0].boxplot(Capomulin_Tumor_vol)\n",
    "ax[0,0].set_ylabel('Tumor Volume (mm3)')\n",
    "plt.sca(ax[0,0])\n",
    "plt.xticks([])\n",
    "\n",
    "ax[0,1].set_title('Ramicane')\n",
    "ax[0,1].boxplot(Ramicane_Tumor_vol)\n",
    "plt.sca(ax[0,1])\n",
    "plt.xticks([])\n",
    "\n",
    "ax[1,0].set_title('Infubinol')\n",
    "ax[1,0].boxplot(Infubinol_Tumor_vol)\n",
    "ax[1,0].set_ylabel('Tumor Volume (mm3)')\n",
    "plt.sca(ax[1,0])\n",
    "plt.xticks([])\n",
    "\n",
    "ax[1,1].set_title('Ceftamin')\n",
    "ax[1,1].boxplot(Ceftamin_Tumor_vol)\n",
    "plt.sca(ax[1,1])\n",
    "plt.xticks([])\n",
    "\n",
    "plt.show()\n",
    "\n"
   ]
  },
  {
   "cell_type": "markdown",
   "metadata": {},
   "source": [
    "## Line and Scatter Plots"
   ]
  },
  {
   "cell_type": "code",
   "execution_count": 156,
   "metadata": {},
   "outputs": [
    {
     "data": {
      "text/plain": [
       "Text(0, 0.5, 'Tumor Volume (mm3)')"
      ]
     },
     "execution_count": 156,
     "metadata": {},
     "output_type": "execute_result"
    },
    {
     "data": {
      "image/png": "[encoded data removed]",
      "text/plain": [
       "<Figure size 432x288 with 1 Axes>"
      ]
     },
     "metadata": {
      "needs_background": "light"
     },
     "output_type": "display_data"
    }
   ],
   "source": [
    "# Generate a line plot of tumor volume vs. time point for a mouse treated with Capomulin\n",
    "\n",
    "drug_tumorvol_time = study_data_complete[[\"Drug Regimen\", \"Mouse ID\",  \"Timepoint\", \"Tumor Volume (mm3)\", \"Weight (g)\"]]\n",
    "drug_tumorvol_time = drug_tumorvol_time.set_index(\"Drug Regimen\")\n",
    "Capomulin_tumorvol_time = drug_tumorvol_time.loc[[\"Capomulin\"],[\"Mouse ID\", \"Tumor Volume (mm3)\", \"Timepoint\"]]\n",
    "Capomulin_tumorvol_time_mouse = Capomulin_tumorvol_time.set_index(\"Mouse ID\")\n",
    "Capomulin_tumorvol_time_mouse_s185 = Capomulin_tumorvol_time_mouse.loc[\"s185\", :]\n",
    "Capomulin_tumorvol_time_mouse_s185 = Capomulin_tumorvol_time_mouse_s185.set_index(\"Timepoint\")\n",
    "\n",
    "Capomulin_tumorvol_time_mouse_s185.plot (kind = \"line\", title= \"Capomilun Regimen: Tumor Reduction Over Time (gr/days) for Mouse #185\")\n",
    "plt.ylabel(\"Tumor Volume (mm3)\")"
   ]
  },
  {
   "cell_type": "code",
   "execution_count": 181,
   "metadata": {},
   "outputs": [
    {
     "data": {
      "text/plain": [
       "<matplotlib.axes._subplots.AxesSubplot at 0x18e52904198>"
      ]
     },
     "execution_count": 181,
     "metadata": {},
     "output_type": "execute_result"
    },
    {
     "data": {
      "image/png": "[encoded data removed]",
      "text/plain": [
       "<Figure size 432x288 with 1 Axes>"
      ]
     },
     "metadata": {
      "needs_background": "light"
     },
     "output_type": "display_data"
    }
   ],
   "source": [
    "# Generate a scatter plot of average tumor volume vs. mouse weight for the Capomulin regimen\n",
    "Capomulin_tumorvol_time = drug_tumorvol_time.loc[[\"Capomulin\"],[\"Mouse ID\", \"Tumor Volume (mm3)\", \"Weight (g)\"]]\n",
    "Capomulin_tumorvol_time_mouse = Capomulin_tumorvol_time.groupby(\"Mouse ID\").mean()\n",
    "# Capomulin_tumorvol_time_mouse.head()\n",
    "\n",
    "avg_weight = Capomulin_tumorvol_time_mouse[\"Weight (g)\"]\n",
    "avg_tumor_vol = Capomulin_tumorvol_time_mouse[\"Tumor Volume (mm3)\"]\n",
    "\n",
    "Capomulin_tumorvol_time_mouse.plot.scatter (x = \"Tumor Volume (mm3)\", y= \"Weight (g)\", title = \"Capomulin Regimen: Average Tumor Volume vs. Mouse Weight\")"
   ]
  },
  {
   "cell_type": "markdown",
   "metadata": {},
   "source": [
    "## Correlation and Regression"
   ]
  },
  {
   "cell_type": "code",
   "execution_count": 163,
   "metadata": {},
   "outputs": [
    {
     "data": {
      "text/plain": [
       "(0.8419363424694717, 1.322572243471279e-07)"
      ]
     },
     "execution_count": 163,
     "metadata": {},
     "output_type": "execute_result"
    }
   ],
   "source": [
    "# Calculate the correlation coefficient \n",
    "# for mouse weight and average tumor volume for the Capomulin regimen\n",
    "\n",
    "avg_weight = Capomulin_tumorvol_time_mouse[\"Weight (g)\"]\n",
    "avg_tumor_vol = Capomulin_tumorvol_time_mouse[\"Tumor Volume (mm3)\"]\n",
    "correlation = st.pearsonr(avg_weight, avg_tumor_vol)\n",
    "correlation"
   ]
  },
  {
   "cell_type": "code",
   "execution_count": 177,
   "metadata": {},
   "outputs": [
    {
     "name": "stdout",
     "output_type": "stream",
     "text": [
      "The r-squared is: 0.7088568047708717\n"
     ]
    },
    {
     "data": {
      "image/png": "[encoded data removed]",
      "text/plain": [
       "<Figure size 432x288 with 1 Axes>"
      ]
     },
     "metadata": {
      "needs_background": "light"
     },
     "output_type": "display_data"
    }
   ],
   "source": [
    "# Calculate the linear regression model\n",
    "# for mouse weight and average tumor volume for the Capomulin regimen\n",
    "\n",
    "avg_weight = Capomulin_tumorvol_time_mouse[\"Weight (g)\"]\n",
    "avg_tumor_vol = Capomulin_tumorvol_time_mouse[\"Tumor Volume (mm3)\"]\n",
    "\n",
    "x_values = Capomulin_tumorvol_time_mouse[\"Tumor Volume (mm3)\"]\n",
    "y_values = Capomulin_tumorvol_time_mouse[\"Weight (g)\"]\n",
    "(slope, intercept, rvalue, pvalue, stderr) = linregress(x_values, y_values)\n",
    "regress_values = x_values * slope + intercept\n",
    "line_eq = \"y = \" + str(round(slope,2)) + \"x + \" + str(round(intercept,2))\n",
    "plt.scatter(x_values,y_values)\n",
    "plt.plot(x_values,regress_values,\"r-\")\n",
    "plt.annotate(line_eq,(34,24),fontsize=15,color=\"red\")\n",
    "plt.xlabel('Tumor Volume (mm3)')\n",
    "plt.ylabel('Weight (g)')\n",
    "print(f\"The r-squared is: {rvalue**2}\")\n",
    "plt.show()"
   ]
  },
  {
   "cell_type": "code",
   "execution_count": null,
   "metadata": {},
   "outputs": [],
   "source": []
  }
 ],
 "metadata": {
  "anaconda-cloud": {},
  "kernelspec": {
   "display_name": "Python 3",
   "language": "python",
   "name": "python3"
  },
  "language_info": {
   "codemirror_mode": {
    "name": "ipython",
    "version": 3
   },
   "file_extension": ".py",
   "mimetype": "text/x-python",
   "name": "python",
   "nbconvert_exporter": "python",
   "pygments_lexer": "ipython3",
   "version": "3.6.10"
  }
 },
 "nbformat": 4,
 "nbformat_minor": 4
}
